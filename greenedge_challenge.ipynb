{
  "cells": [
    {
      "cell_type": "markdown",
      "metadata": {
        "id": "41S2g3TUoTp0"
      },
      "source": [
        "<img src='https://greenedge-itn.eu/wp-content/uploads/2021/02/logo.png' height=100> **CHALLENGE**\n",
        "\n",
        "\n",
        "---\n",
        "\n"
      ]
    },
    {
      "cell_type": "markdown",
      "metadata": {
        "id": "TEJgtU2-aAg-"
      },
      "source": [
        "#EfficientNet Example\n",
        "\n",
        "<!-- <img src='https://greenedge-itn.eu/wp-content/uploads/2021/03/green-edge-mascotte.png' height=150> -->\n",
        "\n",
        "This notebook, which complements the challenge description document, details how energy consumption should be estimated, and how each submission to the challenge will be scored. The procedure is illustrated on an example."
      ]
    },
    {
      "cell_type": "markdown",
      "metadata": {
        "id": "8royCzt_cnNO"
      },
      "source": [
        "## Install Requirements\n",
        "Install the following libraries\n",
        "- **Deep Lake** (https://github.com/activeloopai/deeplake?tab=readme-ov-file): Deep Lake is a Database for AI powered by a storage format optimized for deep-learning applications.\n",
        "\n",
        "- **fvcore** (https://github.com/facebookresearch/fvcore): a light-weight core library that provides the most common and essential functionality shared in various computer vision frameworks developed by the Fundamental AI Research (FAIR) team at Meta. For this challenge, you will need the flop counter documented [here](https://github.com/facebookresearch/fvcore/blob/main/docs/flop_count.md).\n",
        "\n",
        "<!-- - **TorchMetrics** (https://github.com/Lightning-AI/torchmetrics): TorchMetrics is a collection of 100+ PyTorch metrics implementations and an easy-to-use API to create custom metrics. For this challenge, you will need it for the computation of models' accuracy. -->"
      ]
    },
    {
      "cell_type": "code",
      "execution_count": null,
      "metadata": {
        "colab": {
          "base_uri": "https://localhost:8080/"
        },
        "id": "Ui09NSd9cl4e",
        "outputId": "cbe6d132-d207-4cbb-ebd9-4022f0797ebe"
      },
      "outputs": [
        {
          "name": "stdout",
          "output_type": "stream",
          "text": [
            "Collecting deeplake\n",
            "  Downloading deeplake-3.8.21.tar.gz (586 kB)\n",
            "\u001b[2K     \u001b[90m━━━━━━━━━━━━━━━━━━━━━━━━━━━━━━━━━━━━━━━━\u001b[0m \u001b[32m586.6/586.6 kB\u001b[0m \u001b[31m4.4 MB/s\u001b[0m eta \u001b[36m0:00:00\u001b[0m\n",
            "\u001b[?25h  Installing build dependencies ... \u001b[?25l\u001b[?25hdone\n",
            "  Getting requirements to build wheel ... \u001b[?25l\u001b[?25hdone\n",
            "  Preparing metadata (pyproject.toml) ... \u001b[?25l\u001b[?25hdone\n",
            "Requirement already satisfied: numpy in /usr/local/lib/python3.10/dist-packages (from deeplake) (1.25.2)\n",
            "Requirement already satisfied: pillow in /usr/local/lib/python3.10/dist-packages (from deeplake) (9.4.0)\n",
            "Collecting boto3 (from deeplake)\n",
            "  Downloading boto3-1.34.51-py3-none-any.whl (139 kB)\n",
            "\u001b[2K     \u001b[90m━━━━━━━━━━━━━━━━━━━━━━━━━━━━━━━━━━━━━━━━\u001b[0m \u001b[32m139.3/139.3 kB\u001b[0m \u001b[31m8.5 MB/s\u001b[0m eta \u001b[36m0:00:00\u001b[0m\n",
            "\u001b[?25hRequirement already satisfied: click in /usr/local/lib/python3.10/dist-packages (from deeplake) (8.1.7)\n",
            "Collecting pathos (from deeplake)\n",
            "  Downloading pathos-0.3.2-py3-none-any.whl (82 kB)\n",
            "\u001b[2K     \u001b[90m━━━━━━━━━━━━━━━━━━━━━━━━━━━━━━━━━━━━━━━━\u001b[0m \u001b[32m82.1/82.1 kB\u001b[0m \u001b[31m9.3 MB/s\u001b[0m eta \u001b[36m0:00:00\u001b[0m\n",
            "\u001b[?25hCollecting humbug>=0.3.1 (from deeplake)\n",
            "  Downloading humbug-0.3.2-py3-none-any.whl (15 kB)\n",
            "Requirement already satisfied: tqdm in /usr/local/lib/python3.10/dist-packages (from deeplake) (4.66.2)\n",
            "Collecting lz4 (from deeplake)\n",
            "  Downloading lz4-4.3.3-cp310-cp310-manylinux_2_17_x86_64.manylinux2014_x86_64.whl (1.3 MB)\n",
            "\u001b[2K     \u001b[90m━━━━━━━━━━━━━━━━━━━━━━━━━━━━━━━━━━━━━━━━\u001b[0m \u001b[32m1.3/1.3 MB\u001b[0m \u001b[31m20.9 MB/s\u001b[0m eta \u001b[36m0:00:00\u001b[0m\n",
            "\u001b[?25hRequirement already satisfied: pyjwt in /usr/lib/python3/dist-packages (from deeplake) (2.3.0)\n",
            "Requirement already satisfied: pydantic in /usr/local/lib/python3.10/dist-packages (from deeplake) (2.6.1)\n",
            "Collecting libdeeplake==0.0.101 (from deeplake)\n",
            "  Downloading libdeeplake-0.0.101-cp310-cp310-manylinux2014_x86_64.whl (16.7 MB)\n",
            "\u001b[2K     \u001b[90m━━━━━━━━━━━━━━━━━━━━━━━━━━━━━━━━━━━━━━━━\u001b[0m \u001b[32m16.7/16.7 MB\u001b[0m \u001b[31m43.9 MB/s\u001b[0m eta \u001b[36m0:00:00\u001b[0m\n",
            "\u001b[?25hCollecting aioboto3>=10.4.0 (from deeplake)\n",
            "  Downloading aioboto3-12.3.0-py3-none-any.whl (32 kB)\n",
            "Requirement already satisfied: nest-asyncio in /usr/local/lib/python3.10/dist-packages (from deeplake) (1.6.0)\n",
            "Collecting dill (from libdeeplake==0.0.101->deeplake)\n",
            "  Downloading dill-0.3.8-py3-none-any.whl (116 kB)\n",
            "\u001b[2K     \u001b[90m━━━━━━━━━━━━━━━━━━━━━━━━━━━━━━━━━━━━━━━━\u001b[0m \u001b[32m116.3/116.3 kB\u001b[0m \u001b[31m16.1 MB/s\u001b[0m eta \u001b[36m0:00:00\u001b[0m\n",
            "\u001b[?25hCollecting aiobotocore[boto3]==2.11.2 (from aioboto3>=10.4.0->deeplake)\n",
            "  Downloading aiobotocore-2.11.2-py3-none-any.whl (76 kB)\n",
            "\u001b[2K     \u001b[90m━━━━━━━━━━━━━━━━━━━━━━━━━━━━━━━━━━━━━━━━\u001b[0m \u001b[32m76.1/76.1 kB\u001b[0m \u001b[31m8.1 MB/s\u001b[0m eta \u001b[36m0:00:00\u001b[0m\n",
            "\u001b[?25hCollecting botocore<1.34.35,>=1.33.2 (from aiobotocore[boto3]==2.11.2->aioboto3>=10.4.0->deeplake)\n",
            "  Downloading botocore-1.34.34-py3-none-any.whl (11.9 MB)\n",
            "\u001b[2K     \u001b[90m━━━━━━━━━━━━━━━━━━━━━━━━━━━━━━━━━━━━━━━━\u001b[0m \u001b[32m11.9/11.9 MB\u001b[0m \u001b[31m54.8 MB/s\u001b[0m eta \u001b[36m0:00:00\u001b[0m\n",
            "\u001b[?25hRequirement already satisfied: aiohttp<4.0.0,>=3.7.4.post0 in /usr/local/lib/python3.10/dist-packages (from aiobotocore[boto3]==2.11.2->aioboto3>=10.4.0->deeplake) (3.9.3)\n",
            "Requirement already satisfied: wrapt<2.0.0,>=1.10.10 in /usr/local/lib/python3.10/dist-packages (from aiobotocore[boto3]==2.11.2->aioboto3>=10.4.0->deeplake) (1.14.1)\n",
            "Collecting aioitertools<1.0.0,>=0.5.1 (from aiobotocore[boto3]==2.11.2->aioboto3>=10.4.0->deeplake)\n",
            "  Downloading aioitertools-0.11.0-py3-none-any.whl (23 kB)\n",
            "Collecting boto3 (from deeplake)\n",
            "  Downloading boto3-1.34.34-py3-none-any.whl (139 kB)\n",
            "\u001b[2K     \u001b[90m━━━━━━━━━━━━━━━━━━━━━━━━━━━━━━━━━━━━━━━━\u001b[0m \u001b[32m139.3/139.3 kB\u001b[0m \u001b[31m19.1 MB/s\u001b[0m eta \u001b[36m0:00:00\u001b[0m\n",
            "\u001b[?25hCollecting jmespath<2.0.0,>=0.7.1 (from boto3->deeplake)\n",
            "  Downloading jmespath-1.0.1-py3-none-any.whl (20 kB)\n",
            "Collecting s3transfer<0.11.0,>=0.10.0 (from boto3->deeplake)\n",
            "  Downloading s3transfer-0.10.0-py3-none-any.whl (82 kB)\n",
            "\u001b[2K     \u001b[90m━━━━━━━━━━━━━━━━━━━━━━━━━━━━━━━━━━━━━━━━\u001b[0m \u001b[32m82.1/82.1 kB\u001b[0m \u001b[31m13.3 MB/s\u001b[0m eta \u001b[36m0:00:00\u001b[0m\n",
            "\u001b[?25hRequirement already satisfied: requests in /usr/local/lib/python3.10/dist-packages (from humbug>=0.3.1->deeplake) (2.31.0)\n",
            "Collecting ppft>=1.7.6.8 (from pathos->deeplake)\n",
            "  Downloading ppft-1.7.6.8-py3-none-any.whl (56 kB)\n",
            "\u001b[2K     \u001b[90m━━━━━━━━━━━━━━━━━━━━━━━━━━━━━━━━━━━━━━━━\u001b[0m \u001b[32m56.8/56.8 kB\u001b[0m \u001b[31m8.3 MB/s\u001b[0m eta \u001b[36m0:00:00\u001b[0m\n",
            "\u001b[?25hCollecting pox>=0.3.4 (from pathos->deeplake)\n",
            "  Downloading pox-0.3.4-py3-none-any.whl (29 kB)\n",
            "Collecting multiprocess>=0.70.16 (from pathos->deeplake)\n",
            "  Downloading multiprocess-0.70.16-py310-none-any.whl (134 kB)\n",
            "\u001b[2K     \u001b[90m━━━━━━━━━━━━━━━━━━━━━━━━━━━━━━━━━━━━━━━━\u001b[0m \u001b[32m134.8/134.8 kB\u001b[0m \u001b[31m19.1 MB/s\u001b[0m eta \u001b[36m0:00:00\u001b[0m\n",
            "\u001b[?25hRequirement already satisfied: annotated-types>=0.4.0 in /usr/local/lib/python3.10/dist-packages (from pydantic->deeplake) (0.6.0)\n",
            "Requirement already satisfied: pydantic-core==2.16.2 in /usr/local/lib/python3.10/dist-packages (from pydantic->deeplake) (2.16.2)\n",
            "Requirement already satisfied: typing-extensions>=4.6.1 in /usr/local/lib/python3.10/dist-packages (from pydantic->deeplake) (4.9.0)\n",
            "Requirement already satisfied: python-dateutil<3.0.0,>=2.1 in /usr/local/lib/python3.10/dist-packages (from botocore<1.34.35,>=1.33.2->aiobotocore[boto3]==2.11.2->aioboto3>=10.4.0->deeplake) (2.8.2)\n",
            "Requirement already satisfied: urllib3<2.1,>=1.25.4 in /usr/local/lib/python3.10/dist-packages (from botocore<1.34.35,>=1.33.2->aiobotocore[boto3]==2.11.2->aioboto3>=10.4.0->deeplake) (2.0.7)\n",
            "Requirement already satisfied: charset-normalizer<4,>=2 in /usr/local/lib/python3.10/dist-packages (from requests->humbug>=0.3.1->deeplake) (3.3.2)\n",
            "Requirement already satisfied: idna<4,>=2.5 in /usr/local/lib/python3.10/dist-packages (from requests->humbug>=0.3.1->deeplake) (3.6)\n",
            "Requirement already satisfied: certifi>=2017.4.17 in /usr/local/lib/python3.10/dist-packages (from requests->humbug>=0.3.1->deeplake) (2024.2.2)\n",
            "Requirement already satisfied: aiosignal>=1.1.2 in /usr/local/lib/python3.10/dist-packages (from aiohttp<4.0.0,>=3.7.4.post0->aiobotocore[boto3]==2.11.2->aioboto3>=10.4.0->deeplake) (1.3.1)\n",
            "Requirement already satisfied: attrs>=17.3.0 in /usr/local/lib/python3.10/dist-packages (from aiohttp<4.0.0,>=3.7.4.post0->aiobotocore[boto3]==2.11.2->aioboto3>=10.4.0->deeplake) (23.2.0)\n",
            "Requirement already satisfied: frozenlist>=1.1.1 in /usr/local/lib/python3.10/dist-packages (from aiohttp<4.0.0,>=3.7.4.post0->aiobotocore[boto3]==2.11.2->aioboto3>=10.4.0->deeplake) (1.4.1)\n",
            "Requirement already satisfied: multidict<7.0,>=4.5 in /usr/local/lib/python3.10/dist-packages (from aiohttp<4.0.0,>=3.7.4.post0->aiobotocore[boto3]==2.11.2->aioboto3>=10.4.0->deeplake) (6.0.5)\n",
            "Requirement already satisfied: yarl<2.0,>=1.0 in /usr/local/lib/python3.10/dist-packages (from aiohttp<4.0.0,>=3.7.4.post0->aiobotocore[boto3]==2.11.2->aioboto3>=10.4.0->deeplake) (1.9.4)\n",
            "Requirement already satisfied: async-timeout<5.0,>=4.0 in /usr/local/lib/python3.10/dist-packages (from aiohttp<4.0.0,>=3.7.4.post0->aiobotocore[boto3]==2.11.2->aioboto3>=10.4.0->deeplake) (4.0.3)\n",
            "Requirement already satisfied: six>=1.5 in /usr/local/lib/python3.10/dist-packages (from python-dateutil<3.0.0,>=2.1->botocore<1.34.35,>=1.33.2->aiobotocore[boto3]==2.11.2->aioboto3>=10.4.0->deeplake) (1.16.0)\n",
            "Building wheels for collected packages: deeplake\n",
            "  Building wheel for deeplake (pyproject.toml) ... \u001b[?25l\u001b[?25hdone\n",
            "  Created wheel for deeplake: filename=deeplake-3.8.21-py3-none-any.whl size=705881 sha256=6270e3ac56277414b43e7268fdf25505d5f61cafe2efc2f84cc781aa3e284f98\n",
            "  Stored in directory: /root/.cache/pip/wheels/fa/ac/2c/b86bac91c8f92158e20245d7793f2e4a1875bd3a1e6f4dad70\n",
            "Successfully built deeplake\n",
            "Installing collected packages: ppft, pox, lz4, jmespath, dill, aioitertools, multiprocess, libdeeplake, humbug, botocore, s3transfer, pathos, aiobotocore, boto3, aioboto3, deeplake\n",
            "Successfully installed aioboto3-12.3.0 aiobotocore-2.11.2 aioitertools-0.11.0 boto3-1.34.34 botocore-1.34.34 deeplake-3.8.21 dill-0.3.8 humbug-0.3.2 jmespath-1.0.1 libdeeplake-0.0.101 lz4-4.3.3 multiprocess-0.70.16 pathos-0.3.2 pox-0.3.4 ppft-1.7.6.8 s3transfer-0.10.0\n",
            "Collecting fvcore\n",
            "  Downloading fvcore-0.1.5.post20221221.tar.gz (50 kB)\n",
            "\u001b[2K     \u001b[90m━━━━━━━━━━━━━━━━━━━━━━━━━━━━━━━━━━━━━━━━\u001b[0m \u001b[32m50.2/50.2 kB\u001b[0m \u001b[31m985.8 kB/s\u001b[0m eta \u001b[36m0:00:00\u001b[0m\n",
            "\u001b[?25h  Preparing metadata (setup.py) ... \u001b[?25l\u001b[?25hdone\n",
            "Requirement already satisfied: numpy in /usr/local/lib/python3.10/dist-packages (from fvcore) (1.25.2)\n",
            "Collecting yacs>=0.1.6 (from fvcore)\n",
            "  Downloading yacs-0.1.8-py3-none-any.whl (14 kB)\n",
            "Requirement already satisfied: pyyaml>=5.1 in /usr/local/lib/python3.10/dist-packages (from fvcore) (6.0.1)\n",
            "Requirement already satisfied: tqdm in /usr/local/lib/python3.10/dist-packages (from fvcore) (4.66.2)\n",
            "Requirement already satisfied: termcolor>=1.1 in /usr/local/lib/python3.10/dist-packages (from fvcore) (2.4.0)\n",
            "Requirement already satisfied: Pillow in /usr/local/lib/python3.10/dist-packages (from fvcore) (9.4.0)\n",
            "Requirement already satisfied: tabulate in /usr/local/lib/python3.10/dist-packages (from fvcore) (0.9.0)\n",
            "Collecting iopath>=0.1.7 (from fvcore)\n",
            "  Downloading iopath-0.1.10.tar.gz (42 kB)\n",
            "\u001b[2K     \u001b[90m━━━━━━━━━━━━━━━━━━━━━━━━━━━━━━━━━━━━━━━━\u001b[0m \u001b[32m42.2/42.2 kB\u001b[0m \u001b[31m3.2 MB/s\u001b[0m eta \u001b[36m0:00:00\u001b[0m\n",
            "\u001b[?25h  Preparing metadata (setup.py) ... \u001b[?25l\u001b[?25hdone\n",
            "Requirement already satisfied: typing_extensions in /usr/local/lib/python3.10/dist-packages (from iopath>=0.1.7->fvcore) (4.9.0)\n",
            "Collecting portalocker (from iopath>=0.1.7->fvcore)\n",
            "  Downloading portalocker-2.8.2-py3-none-any.whl (17 kB)\n",
            "Building wheels for collected packages: fvcore, iopath\n",
            "  Building wheel for fvcore (setup.py) ... \u001b[?25l\u001b[?25hdone\n",
            "  Created wheel for fvcore: filename=fvcore-0.1.5.post20221221-py3-none-any.whl size=61400 sha256=d83b3e1ff46e08430108b2077ab152d3a54fc8fcda6affd39cf2fca0513defbd\n",
            "  Stored in directory: /root/.cache/pip/wheels/01/c0/af/77c1cf53a1be9e42a52b48e5af2169d40ec2e89f7362489dd0\n",
            "  Building wheel for iopath (setup.py) ... \u001b[?25l\u001b[?25hdone\n",
            "  Created wheel for iopath: filename=iopath-0.1.10-py3-none-any.whl size=31532 sha256=31e217ec967543e01193ad93d6429e033daebd25a2a5735e340bdf0fa9d8ae9f\n",
            "  Stored in directory: /root/.cache/pip/wheels/9a/a3/b6/ac0fcd1b4ed5cfeb3db92e6a0e476cfd48ed0df92b91080c1d\n",
            "Successfully built fvcore iopath\n",
            "Installing collected packages: yacs, portalocker, iopath, fvcore\n",
            "Successfully installed fvcore-0.1.5.post20221221 iopath-0.1.10 portalocker-2.8.2 yacs-0.1.8\n"
          ]
        }
      ],
      "source": [
        "!pip install deeplake\n",
        "!pip install -U fvcore"
      ]
    },
    {
      "cell_type": "markdown",
      "metadata": {
        "id": "O7l7_zpKS7lo"
      },
      "source": [
        "## TinyImageNet Dataset (Deep Lake)\n",
        "Download and prepare the TinyImageNet dataset using *Deep Lake*. The test queue is called *validation* data.\n",
        "\n",
        "<img src='https://datasets.activeloop.ai/wp-content/uploads/2022/09/tinyimagenet-dataset-Activeloop-Platform-visualization-image-1024x446.webp' height=250>\n",
        "\n"
      ]
    },
    {
      "cell_type": "code",
      "execution_count": null,
      "metadata": {
        "colab": {
          "base_uri": "https://localhost:8080/"
        },
        "id": "wOlaYGCm85K8",
        "outputId": "d25f1a4b-de13-445e-cb2c-be477893318b"
      },
      "outputs": [
        {
          "name": "stderr",
          "output_type": "stream",
          "text": [
            "\r\r"
          ]
        },
        {
          "name": "stdout",
          "output_type": "stream",
          "text": [
            "Opening dataset in read-only mode as you don't have write permissions.\n"
          ]
        },
        {
          "name": "stderr",
          "output_type": "stream",
          "text": [
            "/"
          ]
        },
        {
          "name": "stdout",
          "output_type": "stream",
          "text": [
            "This dataset can be visualized in Jupyter Notebook by ds.visualize() or at https://app.activeloop.ai/activeloop/tiny-imagenet-train\n",
            "\n"
          ]
        },
        {
          "name": "stderr",
          "output_type": "stream",
          "text": [
            "-"
          ]
        },
        {
          "name": "stdout",
          "output_type": "stream",
          "text": [
            "hub://activeloop/tiny-imagenet-train loaded successfully.\n",
            "\n"
          ]
        },
        {
          "name": "stderr",
          "output_type": "stream",
          "text": []
        },
        {
          "name": "stdout",
          "output_type": "stream",
          "text": [
            "Opening dataset in read-only mode as you don't have write permissions.\n"
          ]
        },
        {
          "name": "stderr",
          "output_type": "stream",
          "text": [
            "|"
          ]
        },
        {
          "name": "stdout",
          "output_type": "stream",
          "text": [
            "This dataset can be visualized in Jupyter Notebook by ds.visualize() or at https://app.activeloop.ai/activeloop/tiny-imagenet-validation\n",
            "\n"
          ]
        },
        {
          "name": "stderr",
          "output_type": "stream",
          "text": [
            "|"
          ]
        },
        {
          "name": "stdout",
          "output_type": "stream",
          "text": [
            "hub://activeloop/tiny-imagenet-validation loaded successfully.\n",
            "\n"
          ]
        },
        {
          "name": "stderr",
          "output_type": "stream",
          "text": [
            "\r \r\r\r"
          ]
        }
      ],
      "source": [
        "import deeplake\n",
        "from torchvision import transforms\n",
        "\n",
        "train_data = deeplake.load(\"hub://activeloop/tiny-imagenet-train\")\n",
        "validation_data = deeplake.load(\"hub://activeloop/tiny-imagenet-validation\")"
      ]
    },
    {
      "cell_type": "markdown",
      "metadata": {
        "id": "xJuynX715fgH"
      },
      "source": [
        "## EfficientNet Evaluation\n",
        "\n",
        "<figure>\n",
        "    <img src='https://production-media.paperswithcode.com/methods/Screen_Shot_2020-06-06_at_10.45.54_PM.png' height=300>\n",
        "    <figcaption>Tan, Mingxing, and Quoc Le. \"EfficientNet: Rethinking model scaling for convolutional neural networks.\" International conference on machine learning. PMLR, 2019</figcaption>\n",
        "</figure>\n",
        "\n",
        "A submission to this challenge should consist in a set of models $$m_1, \\dots, m_R.$$\n",
        "\n",
        "As an example, we consider the family of EfficientNet models (https://arxiv.org/abs/1905.11946) EfficientNet-B0, ..., EfficientNet-B7 (i.e. $R=8$), and we will estimate the average *energy consumption* values and the *accuracy* values over the test set\n",
        "$$\n",
        "    E(m_1), \\dots, E(m_R) \\quad A(m_1), \\dots, A(m_R).\n",
        "$$\n",
        "<!-- How to **estimate the energy consumption** via the *fvcore* library., An example for the usage of the *fvcore* library, to estimate the number of FLOPs. -->"
      ]
    },
    {
      "cell_type": "markdown",
      "metadata": {
        "id": "hVEvRvrEEisA"
      },
      "source": [
        "For simplicity, we use weights of the EffficientNet models obtained from training on the ImageNet dataset. Due to a current problem with the loading of pretrained weights, we override `torchvision.models._api.WeightsEnum.get_state_dict()`. Please see https://github.com/pytorch/vision/issues/7744#issuecomment-1757321451 for more information."
      ]
    },
    {
      "cell_type": "code",
      "execution_count": null,
      "metadata": {
        "id": "_yRuXCqgD_0c"
      },
      "outputs": [],
      "source": [
        "from torchvision.models._api import WeightsEnum\n",
        "from torch.hub import load_state_dict_from_url\n",
        "\n",
        "def get_state_dict(self, *args, **kwargs):\n",
        "    kwargs.pop(\"check_hash\")\n",
        "    return load_state_dict_from_url(self.url, *args, **kwargs)\n",
        "WeightsEnum.get_state_dict = get_state_dict"
      ]
    },
    {
      "cell_type": "markdown",
      "metadata": {
        "id": "mlWdhmiq-68C"
      },
      "source": [
        "We then import relevant packages and prepare the pre-processing step."
      ]
    },
    {
      "cell_type": "code",
      "execution_count": null,
      "metadata": {
        "colab": {
          "base_uri": "https://localhost:8080/"
        },
        "id": "aXq4sd9X_7LY",
        "outputId": "0e6c8519-b2b1-402a-bc94-f17a61d12c65"
      },
      "outputs": [
        {
          "name": "stdout",
          "output_type": "stream",
          "text": [
            "Device: cuda\n"
          ]
        }
      ],
      "source": [
        "import numpy as np\n",
        "import torch, warnings, torchvision\n",
        "from tqdm.notebook import tqdm\n",
        "import matplotlib.pyplot as plt\n",
        "from fvcore.nn import FlopCountAnalysis\n",
        "from torchvision.models import efficientnet_b0, efficientnet_b1, efficientnet_b2, efficientnet_b3, efficientnet_b4, efficientnet_b5, efficientnet_b6, efficientnet_b7\n",
        "from torchvision.models import EfficientNet_B0_Weights, EfficientNet_B1_Weights, EfficientNet_B2_Weights, EfficientNet_B3_Weights, EfficientNet_B4_Weights, EfficientNet_B5_Weights, EfficientNet_B6_Weights, EfficientNet_B7_Weights\n",
        "\n",
        "device = torch.device('cuda') if torch.cuda.is_available() else torch.device('cpu')\n",
        "print(\"Device:\", device)\n",
        "\n",
        "resolution_dict = {\n",
        "    \"efficientnet_b0\": {\"resize_size\": 256, \"crop_size\": 224},\n",
        "    \"efficientnet_b1\": {\"resize_size\": 256, \"crop_size\": 240},\n",
        "    \"efficientnet_b2\": {\"resize_size\": 288, \"crop_size\": 288},\n",
        "    \"efficientnet_b3\": {\"resize_size\": 320, \"crop_size\": 300},\n",
        "    \"efficientnet_b4\": {\"resize_size\": 384, \"crop_size\": 380},\n",
        "    \"efficientnet_b5\": {\"resize_size\": 456, \"crop_size\": 456},\n",
        "    \"efficientnet_b6\": {\"resize_size\": 528, \"crop_size\": 528},\n",
        "    \"efficientnet_b7\": {\"resize_size\": 600, \"crop_size\": 600}\n",
        "}\n",
        "\n",
        "def tiny_image_net_transform(tform):\n",
        "    '''\n",
        "    Return a Callable which first Cconvert any grayscale images to RGB and then apply\n",
        "    the composition of transformations specified by `tform`.\n",
        "    '''\n",
        "\n",
        "    def tin_transform(sample_in):\n",
        "        # Convert any grayscale images to RGB\n",
        "        image = sample_in['images']\n",
        "        shape = image.shape\n",
        "        if shape[2] == 1:\n",
        "            image = np.repeat(image, int(3/shape[2]), axis = 2)\n",
        "        return {'images': tform(image), 'labels': sample_in['labels']}\n",
        "\n",
        "    return tin_transform\n",
        "\n",
        "# Hide potential warnings from fvcore. They may slow down the inference process.\n",
        "import logging\n",
        "logging.basicConfig(filename='app.log',\n",
        "    level=logging.CRITICAL,\n",
        "    force=True,\n",
        ")"
      ]
    },
    {
      "cell_type": "markdown",
      "metadata": {
        "id": "b7kJJgyI_QG4"
      },
      "source": [
        "The following code computes the average accuracy and average energy consumption -in GFLOPs- of each model over the test set, and stores them in lists ```efficientnet_accuracies``` and ```efficientnet_flops```.  Except for the pre-processing transformation, which is specific to the EfficientNet models, the code is rather generic, and can be repurposed by the participants for use on their own models.\n",
        "\n",
        "Remark: There is little dependence between the average energy consumption, as measured in the above code, and the batch size used during inference. In other words, the number of images given in each call to ```FlopCountAnalysis``` has little effect. However, for the sake of standardizing the evaluation of submissions, the final score will be computed by using a batch size of 1 for inference, i.e. ```FlopCountAnalysis``` will only be given a single image at each call."
      ]
    },
    {
      "cell_type": "code",
      "execution_count": null,
      "metadata": {
        "colab": {
          "background_save": true,
          "base_uri": "https://localhost:8080/",
          "height": 1000,
          "referenced_widgets": [
            "d60beec0847a4f349e21af0e252ec7d3",
            "af6faf6dc5b24c11b13a592afb8ef3cb",
            "0fce7bf806754b76861a5ad97113f171",
            "179b847127964db7acd114f7d63b56f2",
            "f8b499bbe0be41d3b3707077bcde0a1f",
            "e51acd9f2ed9493f99282577f0c0192d",
            "f2078cd4a25c428281260c734fc6d4df",
            "435c56b0d81543d786b37ebf879fe049",
            "7ade441f5d284cdfb1bed196244dbedd",
            "7c5a4ec8e13849319d387122a243799d",
            "2cfa282d01df4faaab8a2206d8d9349f"
          ]
        },
        "id": "8ps_uerNKjHD",
        "outputId": "c3545d31-1312-4d2b-d0f3-fe47a1c26c35"
      },
      "outputs": [
        {
          "data": {
            "application/vnd.jupyter.widget-view+json": {
              "model_id": "d60beec0847a4f349e21af0e252ec7d3",
              "version_major": 2,
              "version_minor": 0
            },
            "text/plain": [
              "  0%|          | 0/8 [00:00<?, ?it/s]"
            ]
          },
          "metadata": {},
          "output_type": "display_data"
        },
        {
          "name": "stderr",
          "output_type": "stream",
          "text": [
            "/usr/local/lib/python3.10/dist-packages/torchvision/models/_utils.py:135: UserWarning: Using 'weights' as positional parameter(s) is deprecated since 0.13 and may be removed in the future. Please use keyword parameter(s) instead.\n",
            "  warnings.warn(\n",
            "/usr/local/lib/python3.10/dist-packages/torchvision/models/_utils.py:223: UserWarning: Arguments other than a weight enum or `None` for 'weights' are deprecated since 0.13 and may be removed in the future. The current behavior is equivalent to passing `weights=EfficientNet_B0_Weights.IMAGENET1K_V1`. You can also use `weights=EfficientNet_B0_Weights.DEFAULT` to get the most up-to-date weights.\n",
            "  warnings.warn(msg)\n",
            "Downloading: \"https://download.pytorch.org/models/efficientnet_b0_rwightman-3dd342df.pth\" to /root/.cache/torch/hub/checkpoints/efficientnet_b0_rwightman-3dd342df.pth\n",
            "\n",
            "  0%|          | 0.00/20.5M [00:00<?, ?B/s]\u001b[A\n",
            "100%|██████████| 20.5M/20.5M [00:00<00:00, 139MB/s]\n",
            "/usr/local/lib/python3.10/dist-packages/deeplake/integrations/pytorch/common.py:137: UserWarning: Decode method for tensors ['images'] is defaulting to numpy. Please consider specifying a decode_method in .pytorch() that maximizes the data preprocessing speed based on your transformation.\n",
            "  warnings.warn(\n",
            "/usr/local/lib/python3.10/dist-packages/torchvision/models/_utils.py:135: UserWarning: Using 'weights' as positional parameter(s) is deprecated since 0.13 and may be removed in the future. Please use keyword parameter(s) instead.\n",
            "  warnings.warn(\n",
            "/usr/local/lib/python3.10/dist-packages/torchvision/models/_utils.py:223: UserWarning: Arguments other than a weight enum or `None` for 'weights' are deprecated since 0.13 and may be removed in the future. The current behavior is equivalent to passing `weights=EfficientNet_B1_Weights.IMAGENET1K_V1`. You can also use `weights=EfficientNet_B1_Weights.DEFAULT` to get the most up-to-date weights.\n",
            "  warnings.warn(msg)\n",
            "Downloading: \"https://download.pytorch.org/models/efficientnet_b1_rwightman-bac287d4.pth\" to /root/.cache/torch/hub/checkpoints/efficientnet_b1_rwightman-bac287d4.pth\n",
            "\n",
            "  0%|          | 0.00/30.1M [00:00<?, ?B/s]\u001b[A\n",
            "100%|██████████| 30.1M/30.1M [00:00<00:00, 185MB/s]\n",
            "/usr/local/lib/python3.10/dist-packages/deeplake/integrations/pytorch/common.py:137: UserWarning: Decode method for tensors ['images'] is defaulting to numpy. Please consider specifying a decode_method in .pytorch() that maximizes the data preprocessing speed based on your transformation.\n",
            "  warnings.warn(\n",
            "/usr/local/lib/python3.10/dist-packages/torchvision/models/_utils.py:135: UserWarning: Using 'weights' as positional parameter(s) is deprecated since 0.13 and may be removed in the future. Please use keyword parameter(s) instead.\n",
            "  warnings.warn(\n",
            "/usr/local/lib/python3.10/dist-packages/torchvision/models/_utils.py:223: UserWarning: Arguments other than a weight enum or `None` for 'weights' are deprecated since 0.13 and may be removed in the future. The current behavior is equivalent to passing `weights=EfficientNet_B2_Weights.IMAGENET1K_V1`. You can also use `weights=EfficientNet_B2_Weights.DEFAULT` to get the most up-to-date weights.\n",
            "  warnings.warn(msg)\n",
            "Downloading: \"https://download.pytorch.org/models/efficientnet_b2_rwightman-bcdf34b7.pth\" to /root/.cache/torch/hub/checkpoints/efficientnet_b2_rwightman-bcdf34b7.pth\n",
            "\n",
            "  0%|          | 0.00/35.2M [00:00<?, ?B/s]\u001b[A\n",
            " 29%|██▉       | 10.4M/35.2M [00:00<00:00, 108MB/s]\u001b[A\n",
            "100%|██████████| 35.2M/35.2M [00:00<00:00, 165MB/s]\n",
            "/usr/local/lib/python3.10/dist-packages/deeplake/integrations/pytorch/common.py:137: UserWarning: Decode method for tensors ['images'] is defaulting to numpy. Please consider specifying a decode_method in .pytorch() that maximizes the data preprocessing speed based on your transformation.\n",
            "  warnings.warn(\n",
            "/usr/local/lib/python3.10/dist-packages/torchvision/models/_utils.py:135: UserWarning: Using 'weights' as positional parameter(s) is deprecated since 0.13 and may be removed in the future. Please use keyword parameter(s) instead.\n",
            "  warnings.warn(\n",
            "/usr/local/lib/python3.10/dist-packages/torchvision/models/_utils.py:223: UserWarning: Arguments other than a weight enum or `None` for 'weights' are deprecated since 0.13 and may be removed in the future. The current behavior is equivalent to passing `weights=EfficientNet_B3_Weights.IMAGENET1K_V1`. You can also use `weights=EfficientNet_B3_Weights.DEFAULT` to get the most up-to-date weights.\n",
            "  warnings.warn(msg)\n",
            "Downloading: \"https://download.pytorch.org/models/efficientnet_b3_rwightman-cf984f9c.pth\" to /root/.cache/torch/hub/checkpoints/efficientnet_b3_rwightman-cf984f9c.pth\n",
            "\n",
            "  0%|          | 0.00/47.2M [00:00<?, ?B/s]\u001b[A\n",
            " 17%|█▋        | 8.11M/47.2M [00:00<00:00, 82.5MB/s]\u001b[A\n",
            " 45%|████▍     | 21.2M/47.2M [00:00<00:00, 114MB/s] \u001b[A\n",
            "100%|██████████| 47.2M/47.2M [00:00<00:00, 147MB/s]\n",
            "/usr/local/lib/python3.10/dist-packages/deeplake/integrations/pytorch/common.py:137: UserWarning: Decode method for tensors ['images'] is defaulting to numpy. Please consider specifying a decode_method in .pytorch() that maximizes the data preprocessing speed based on your transformation.\n",
            "  warnings.warn(\n",
            "/usr/local/lib/python3.10/dist-packages/torchvision/models/_utils.py:135: UserWarning: Using 'weights' as positional parameter(s) is deprecated since 0.13 and may be removed in the future. Please use keyword parameter(s) instead.\n",
            "  warnings.warn(\n",
            "/usr/local/lib/python3.10/dist-packages/torchvision/models/_utils.py:223: UserWarning: Arguments other than a weight enum or `None` for 'weights' are deprecated since 0.13 and may be removed in the future. The current behavior is equivalent to passing `weights=EfficientNet_B4_Weights.IMAGENET1K_V1`. You can also use `weights=EfficientNet_B4_Weights.DEFAULT` to get the most up-to-date weights.\n",
            "  warnings.warn(msg)\n",
            "Downloading: \"https://download.pytorch.org/models/efficientnet_b4_rwightman-7eb33cd5.pth\" to /root/.cache/torch/hub/checkpoints/efficientnet_b4_rwightman-7eb33cd5.pth\n",
            "\n",
            "  0%|          | 0.00/74.5M [00:00<?, ?B/s]\u001b[A\n",
            " 14%|█▍        | 10.6M/74.5M [00:00<00:00, 111MB/s]\u001b[A\n",
            " 49%|████▊     | 36.2M/74.5M [00:00<00:00, 203MB/s]\u001b[A\n",
            "100%|██████████| 74.5M/74.5M [00:00<00:00, 212MB/s]\n",
            "/usr/local/lib/python3.10/dist-packages/deeplake/integrations/pytorch/common.py:137: UserWarning: Decode method for tensors ['images'] is defaulting to numpy. Please consider specifying a decode_method in .pytorch() that maximizes the data preprocessing speed based on your transformation.\n",
            "  warnings.warn(\n",
            "/usr/local/lib/python3.10/dist-packages/torchvision/models/_utils.py:135: UserWarning: Using 'weights' as positional parameter(s) is deprecated since 0.13 and may be removed in the future. Please use keyword parameter(s) instead.\n",
            "  warnings.warn(\n",
            "/usr/local/lib/python3.10/dist-packages/torchvision/models/_utils.py:223: UserWarning: Arguments other than a weight enum or `None` for 'weights' are deprecated since 0.13 and may be removed in the future. The current behavior is equivalent to passing `weights=EfficientNet_B5_Weights.IMAGENET1K_V1`. You can also use `weights=EfficientNet_B5_Weights.DEFAULT` to get the most up-to-date weights.\n",
            "  warnings.warn(msg)\n",
            "Downloading: \"https://download.pytorch.org/models/efficientnet_b5_lukemelas-b6417697.pth\" to /root/.cache/torch/hub/checkpoints/efficientnet_b5_lukemelas-b6417697.pth\n",
            "\n",
            "  0%|          | 0.00/117M [00:00<?, ?B/s]\u001b[A\n",
            "  7%|▋         | 8.54M/117M [00:00<00:01, 89.5MB/s]\u001b[A\n",
            " 20%|█▉        | 22.8M/117M [00:00<00:00, 125MB/s] \u001b[A\n",
            " 39%|███▉      | 46.1M/117M [00:00<00:00, 179MB/s]\u001b[A\n",
            " 59%|█████▉    | 68.8M/117M [00:00<00:00, 203MB/s]\u001b[A\n",
            " 79%|███████▉  | 92.4M/117M [00:00<00:00, 219MB/s]\u001b[A\n",
            "100%|██████████| 117M/117M [00:00<00:00, 197MB/s]\n",
            "/usr/local/lib/python3.10/dist-packages/deeplake/integrations/pytorch/common.py:137: UserWarning: Decode method for tensors ['images'] is defaulting to numpy. Please consider specifying a decode_method in .pytorch() that maximizes the data preprocessing speed based on your transformation.\n",
            "  warnings.warn(\n",
            "/usr/local/lib/python3.10/dist-packages/torchvision/models/_utils.py:135: UserWarning: Using 'weights' as positional parameter(s) is deprecated since 0.13 and may be removed in the future. Please use keyword parameter(s) instead.\n",
            "  warnings.warn(\n",
            "/usr/local/lib/python3.10/dist-packages/torchvision/models/_utils.py:223: UserWarning: Arguments other than a weight enum or `None` for 'weights' are deprecated since 0.13 and may be removed in the future. The current behavior is equivalent to passing `weights=EfficientNet_B6_Weights.IMAGENET1K_V1`. You can also use `weights=EfficientNet_B6_Weights.DEFAULT` to get the most up-to-date weights.\n",
            "  warnings.warn(msg)\n",
            "Downloading: \"https://download.pytorch.org/models/efficientnet_b6_lukemelas-c76e70fd.pth\" to /root/.cache/torch/hub/checkpoints/efficientnet_b6_lukemelas-c76e70fd.pth\n",
            "\n",
            "  0%|          | 0.00/165M [00:00<?, ?B/s]\u001b[A\n",
            "  4%|▍         | 6.58M/165M [00:00<00:02, 68.9MB/s]\u001b[A\n",
            " 12%|█▏        | 19.9M/165M [00:00<00:01, 110MB/s] \u001b[A\n",
            " 25%|██▍       | 41.0M/165M [00:00<00:00, 160MB/s]\u001b[A\n",
            " 40%|████      | 66.5M/165M [00:00<00:00, 203MB/s]\u001b[A\n",
            " 56%|█████▌    | 92.4M/165M [00:00<00:00, 227MB/s]\u001b[A\n",
            " 70%|██████▉   | 116M/165M [00:00<00:00, 233MB/s] \u001b[A\n",
            " 83%|████████▎ | 138M/165M [00:00<00:00, 210MB/s]\u001b[A\n",
            "100%|██████████| 165M/165M [00:00<00:00, 199MB/s]\n",
            "/usr/local/lib/python3.10/dist-packages/deeplake/integrations/pytorch/common.py:137: UserWarning: Decode method for tensors ['images'] is defaulting to numpy. Please consider specifying a decode_method in .pytorch() that maximizes the data preprocessing speed based on your transformation.\n",
            "  warnings.warn(\n",
            "/usr/local/lib/python3.10/dist-packages/torchvision/models/_utils.py:135: UserWarning: Using 'weights' as positional parameter(s) is deprecated since 0.13 and may be removed in the future. Please use keyword parameter(s) instead.\n",
            "  warnings.warn(\n",
            "/usr/local/lib/python3.10/dist-packages/torchvision/models/_utils.py:223: UserWarning: Arguments other than a weight enum or `None` for 'weights' are deprecated since 0.13 and may be removed in the future. The current behavior is equivalent to passing `weights=EfficientNet_B7_Weights.IMAGENET1K_V1`. You can also use `weights=EfficientNet_B7_Weights.DEFAULT` to get the most up-to-date weights.\n",
            "  warnings.warn(msg)\n",
            "Downloading: \"https://download.pytorch.org/models/efficientnet_b7_lukemelas-dcc49843.pth\" to /root/.cache/torch/hub/checkpoints/efficientnet_b7_lukemelas-dcc49843.pth\n",
            "\n",
            "  0%|          | 0.00/255M [00:00<?, ?B/s]\u001b[A\n",
            "  3%|▎         | 8.38M/255M [00:00<00:02, 87.8MB/s]\u001b[A\n",
            " 10%|▉         | 25.2M/255M [00:00<00:01, 140MB/s] \u001b[A\n",
            " 20%|█▉        | 50.3M/255M [00:00<00:01, 196MB/s]\u001b[A\n",
            " 29%|██▉       | 73.3M/255M [00:00<00:00, 214MB/s]\u001b[A\n",
            " 38%|███▊      | 97.9M/255M [00:00<00:00, 230MB/s]\u001b[A\n",
            " 47%|████▋     | 120M/255M [00:00<00:00, 231MB/s] \u001b[A\n",
            " 56%|█████▌    | 142M/255M [00:00<00:00, 219MB/s]\u001b[A\n",
            " 64%|██████▍   | 163M/255M [00:00<00:00, 146MB/s]\u001b[A\n",
            " 72%|███████▏  | 184M/255M [00:01<00:00, 162MB/s]\u001b[A\n",
            " 81%|████████  | 206M/255M [00:01<00:00, 180MB/s]\u001b[A\n",
            " 89%|████████▊ | 225M/255M [00:05<00:01, 16.7MB/s]\u001b[A\n",
            "100%|██████████| 255M/255M [00:05<00:00, 49.2MB/s]\n",
            "/usr/local/lib/python3.10/dist-packages/deeplake/integrations/pytorch/common.py:137: UserWarning: Decode method for tensors ['images'] is defaulting to numpy. Please consider specifying a decode_method in .pytorch() that maximizes the data preprocessing speed based on your transformation.\n",
            "  warnings.warn(\n"
          ]
        }
      ],
      "source": [
        "models = [efficientnet_b0, efficientnet_b1, efficientnet_b2, efficientnet_b3, efficientnet_b4, efficientnet_b5, efficientnet_b6, efficientnet_b7]\n",
        "pretrained_weights = [EfficientNet_B0_Weights, EfficientNet_B1_Weights, EfficientNet_B2_Weights, EfficientNet_B3_Weights, EfficientNet_B4_Weights, EfficientNet_B5_Weights, EfficientNet_B6_Weights, EfficientNet_B7_Weights]\n",
        "architectures = [\"efficientnet_b0\", \"efficientnet_b1\", \"efficientnet_b2\", \"efficientnet_b3\", \"efficientnet_b4\", \"efficientnet_b5\", \"efficientnet_b6\", \"efficientnet_b7\"]\n",
        "efficientnet_flops = []\n",
        "efficientnet_accuracies = []\n",
        "\n",
        "\n",
        "for i,arch in tqdm(enumerate(architectures), total=len(architectures)):\n",
        "\n",
        "    # Model\n",
        "    model = models[i](pretrained_weights[i])\n",
        "    model.to(device)\n",
        "    model.eval()\n",
        "\n",
        "    # Dataset\n",
        "    tform = torchvision.transforms.Compose([\n",
        "        torchvision.transforms.ToPILImage(),\n",
        "        torchvision.transforms.Resize(resolution_dict[arch][\"resize_size\"],\n",
        "                    interpolation=torchvision.transforms.InterpolationMode.BICUBIC),\n",
        "        torchvision.transforms.CenterCrop(resolution_dict[arch][\"crop_size\"]),\n",
        "        torchvision.transforms.ToTensor(),\n",
        "        torchvision.transforms.Normalize(mean=[0.485, 0.456, 0.406], std=[0.229, 0.224, 0.225]),\n",
        "    ])\n",
        "\n",
        "    dataloader = validation_data.pytorch(\n",
        "        num_workers=0,\n",
        "        tensors = ['images', 'labels'],\n",
        "        transform = tiny_image_net_transform(tform),\n",
        "        batch_size=10,\n",
        "        shuffle=False\n",
        "    )\n",
        "\n",
        "    total =  0\n",
        "    total_flops = 0\n",
        "    correct = 0\n",
        "\n",
        "    # Estimating Energy and Accuracy values\n",
        "    with torch.no_grad():\n",
        "        for i, data in enumerate(dataloader):\n",
        "\n",
        "            inputs = data['images']\n",
        "            labels = torch.squeeze(data['labels'])\n",
        "\n",
        "            inputs = inputs.to(device)\n",
        "            labels = labels.to(device)\n",
        "\n",
        "            # Compute FLOPs\n",
        "            flops = FlopCountAnalysis(model, inputs).tracer_warnings(mode='none')\n",
        "            total_flops += flops.total()/10**9 # in Giga Flops\n",
        "\n",
        "            # Accuracy\n",
        "            outputs = model(inputs.float())\n",
        "            _, predicted = torch.max(outputs.data, 1)\n",
        "            total += labels.size(0)\n",
        "            correct += (predicted == labels).sum().item()\n",
        "\n",
        "        accuracy = 100 * correct / total\n",
        "        energy = total_flops / total\n",
        "\n",
        "    efficientnet_flops.append( energy )\n",
        "    efficientnet_accuracies.append( accuracy )\n",
        "\n"
      ]
    },
    {
      "cell_type": "markdown",
      "metadata": {
        "id": "L4yktE7cJ4YN"
      },
      "source": [
        "Since there are no available pre-trained models for TinyImageNet, for explanatory purposes we hardcode the accuracies for ImageNet instead, reported [here](https://pytorch.org/vision/main/models/efficientnet.html). For the challenge evaluation, the accuracy for each model will be computed as reported above."
      ]
    },
    {
      "cell_type": "code",
      "execution_count": null,
      "metadata": {
        "colab": {
          "background_save": true
        },
        "id": "nzPDqgSpJ2qB"
      },
      "outputs": [],
      "source": [
        "efficientnet_accuracies = [.77692, .78642, .80608, .82008, .83384, .83444, .84008, .84122]"
      ]
    },
    {
      "cell_type": "code",
      "execution_count": null,
      "metadata": {
        "colab": {
          "background_save": true
        },
        "id": "AC-m5z2bKn9w",
        "outputId": "c16e77d1-d384-43ce-d795-ddb9fccad5b9"
      },
      "outputs": [
        {
          "data": {
            "image/png": "[encoded data removed]",
            "text/plain": [
              "<Figure size 500x300 with 1 Axes>"
            ]
          },
          "metadata": {},
          "output_type": "display_data"
        }
      ],
      "source": [
        "plt.figure(figsize=(5,3))\n",
        "plt.plot(efficientnet_flops, efficientnet_accuracies, '-o')\n",
        "plt.title(\"Evaluation for EfficientNet\")\n",
        "plt.xlabel(\"Energy (GFLOPs)\")\n",
        "plt.ylabel(\"Accuracy\")\n",
        "plt.grid(linestyle='--')\n",
        "plt.show()"
      ]
    },
    {
      "cell_type": "markdown",
      "metadata": {
        "id": "qBp74nWKNHxT"
      },
      "source": [
        "## Evaluation metric"
      ]
    },
    {
      "cell_type": "markdown",
      "metadata": {
        "id": "xZhxXG6UeLdZ"
      },
      "source": [
        "We remind that for every model proposed by the participants, the average energy consumption over the test set should be strictly less than $E_\\max = 39.32$ GFLOPs - which is inspired from the average energy consumption of EfficientNet-B7."
      ]
    },
    {
      "cell_type": "markdown",
      "metadata": {
        "id": "tJll646CFrFi"
      },
      "source": [
        "The following function will be used to compute a final score, on the basis of which submissions will be ranked."
      ]
    },
    {
      "cell_type": "code",
      "execution_count": null,
      "metadata": {
        "colab": {
          "background_save": true
        },
        "id": "u_lOGxbrNDQj"
      },
      "outputs": [],
      "source": [
        "def metric(Ens, Accs):\n",
        "    e_max = 39.32\n",
        "    AUC = 0\n",
        "    Ens, Accs = zip(*sorted(zip(Ens, Accs)))\n",
        "    Ens, Accs = list(Ens),list(Accs)\n",
        "    Ens.append(e_max)\n",
        "    for i in range(len(Ens)-1):\n",
        "      AUC = AUC + Accs[i] * (Ens[i+1]-Ens[i])\n",
        "    return AUC"
      ]
    },
    {
      "cell_type": "markdown",
      "metadata": {
        "id": "VqqakGGgSwQL"
      },
      "source": [
        "For the sake of simplicity, we consider an example of a submission consisting in 3 models among the EfficientNet family. Precisely, we choose\n",
        "- `efficientnet_b0`\n",
        "- `efficientnet_b3`\n",
        "- `efficientnet_b6`\n",
        "\n",
        "The corresponding Energy v.s. Accuracy curve is given below.\n",
        "\n",
        "<!-- ![a.png](data:image/png;base64,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)\n",
        "-->"
      ]
    },
    {
      "cell_type": "code",
      "execution_count": null,
      "metadata": {
        "colab": {
          "background_save": true
        },
        "id": "xm5bp-MOMpCg",
        "outputId": "ba82e371-750c-4c1e-800c-3d21e31bd2b5"
      },
      "outputs": [
        {
          "data": {
            "image/png": "[encoded data removed]",
            "text/plain": [
              "<Figure size 500x300 with 1 Axes>"
            ]
          },
          "metadata": {},
          "output_type": "display_data"
        }
      ],
      "source": [
        "Ens = [ efficientnet_flops[0], efficientnet_flops[3], efficientnet_flops[6], 39.32 ]\n",
        "Accs = [ efficientnet_accuracies[0], efficientnet_accuracies[3], efficientnet_accuracies[6], 39.32 ]\n",
        "\n",
        "# Compute the challenge score\n",
        "score = metric(Ens, Accs)\n",
        "\n",
        "# Visualization\n",
        "plt.figure(figsize=(5,3))\n",
        "plt.title(\"Evaluation Metric\")\n",
        "plt.step(Ens, Accs, where='post')\n",
        "plt.fill_between(Ens, Accs, step=\"post\", alpha=0.4, label=f'{round(score,3)}')\n",
        "plt.plot(efficientnet_flops, efficientnet_accuracies, 'o--', color='grey', alpha=0.7)\n",
        "\n",
        "\n",
        "plt.annotate('efficientnet_b0', xy=(Ens[0], Accs[0]), xytext=(2, 0.735),\n",
        "    arrowprops=dict(facecolor='black', arrowstyle=\"->\"),\n",
        ")\n",
        "\n",
        "plt.annotate('efficientnet_b3', xy=(Ens[1], Accs[1]), xytext=(3, 0.775),\n",
        "    arrowprops=dict(facecolor='black', arrowstyle=\"->\"),\n",
        ")\n",
        "\n",
        "plt.annotate('efficientnet_b6', xy=(Ens[2], Accs[2]), xytext=(20, 0.8),\n",
        "    arrowprops=dict(facecolor='black', arrowstyle=\"->\"),\n",
        ")\n",
        "\n",
        "plt.annotate('efficientnet_b7', xy=(Ens[3], Accs[3]), xytext=(26, 0.765),\n",
        "    arrowprops=dict(facecolor='black', arrowstyle=\"->\"),\n",
        ")\n",
        "\n",
        "plt.annotate('(reference)', xy=(Ens[3], Accs[3]), xytext=(27.8, 0.75),\n",
        ")\n",
        "\n",
        "plt.ylim(0.7)\n",
        "plt.xlabel(\"Energy (GFLOPs)\")\n",
        "plt.ylabel(\"Accuracy\")\n",
        "plt.legend()\n",
        "plt.show()"
      ]
    }
  ],
  "metadata": {
    "accelerator": "GPU",
    "colab": {
      "collapsed_sections": [
        "O7l7_zpKS7lo"
      ],
      "gpuType": "T4",
      "provenance": []
    },
    "kernelspec": {
      "display_name": "Python 3",
      "name": "python3"
    },
    "language_info": {
      "name": "python"
    },
    "widgets": {
      "application/vnd.jupyter.widget-state+json": {
        "0fce7bf806754b76861a5ad97113f171": {
          "model_module": "@jupyter-widgets/controls",
          "model_module_version": "1.5.0",
          "model_name": "FloatProgressModel",
          "state": {
            "_dom_classes": [],
            "_model_module": "@jupyter-widgets/controls",
            "_model_module_version": "1.5.0",
            "_model_name": "FloatProgressModel",
            "_view_count": null,
            "_view_module": "@jupyter-widgets/controls",
            "_view_module_version": "1.5.0",
            "_view_name": "ProgressView",
            "bar_style": "",
            "description": "",
            "description_tooltip": null,
            "layout": "IPY_MODEL_435c56b0d81543d786b37ebf879fe049",
            "max": 8,
            "min": 0,
            "orientation": "horizontal",
            "style": "IPY_MODEL_7ade441f5d284cdfb1bed196244dbedd",
            "value": 7
          }
        },
        "179b847127964db7acd114f7d63b56f2": {
          "model_module": "@jupyter-widgets/controls",
          "model_module_version": "1.5.0",
          "model_name": "HTMLModel",
          "state": {
            "_dom_classes": [],
            "_model_module": "@jupyter-widgets/controls",
            "_model_module_version": "1.5.0",
            "_model_name": "HTMLModel",
            "_view_count": null,
            "_view_module": "@jupyter-widgets/controls",
            "_view_module_version": "1.5.0",
            "_view_name": "HTMLView",
            "description": "",
            "description_tooltip": null,
            "layout": "IPY_MODEL_7c5a4ec8e13849319d387122a243799d",
            "placeholder": "​",
            "style": "IPY_MODEL_2cfa282d01df4faaab8a2206d8d9349f",
            "value": " 7/8 [1:35:06&lt;17:33, 1053.81s/it]"
          }
        },
        "2cfa282d01df4faaab8a2206d8d9349f": {
          "model_module": "@jupyter-widgets/controls",
          "model_module_version": "1.5.0",
          "model_name": "DescriptionStyleModel",
          "state": {
            "_model_module": "@jupyter-widgets/controls",
            "_model_module_version": "1.5.0",
            "_model_name": "DescriptionStyleModel",
            "_view_count": null,
            "_view_module": "@jupyter-widgets/base",
            "_view_module_version": "1.2.0",
            "_view_name": "StyleView",
            "description_width": ""
          }
        },
        "435c56b0d81543d786b37ebf879fe049": {
          "model_module": "@jupyter-widgets/base",
          "model_module_version": "1.2.0",
          "model_name": "LayoutModel",
          "state": {
            "_model_module": "@jupyter-widgets/base",
            "_model_module_version": "1.2.0",
            "_model_name": "LayoutModel",
            "_view_count": null,
            "_view_module": "@jupyter-widgets/base",
            "_view_module_version": "1.2.0",
            "_view_name": "LayoutView",
            "align_content": null,
            "align_items": null,
            "align_self": null,
            "border": null,
            "bottom": null,
            "display": null,
            "flex": null,
            "flex_flow": null,
            "grid_area": null,
            "grid_auto_columns": null,
            "grid_auto_flow": null,
            "grid_auto_rows": null,
            "grid_column": null,
            "grid_gap": null,
            "grid_row": null,
            "grid_template_areas": null,
            "grid_template_columns": null,
            "grid_template_rows": null,
            "height": null,
            "justify_content": null,
            "justify_items": null,
            "left": null,
            "margin": null,
            "max_height": null,
            "max_width": null,
            "min_height": null,
            "min_width": null,
            "object_fit": null,
            "object_position": null,
            "order": null,
            "overflow": null,
            "overflow_x": null,
            "overflow_y": null,
            "padding": null,
            "right": null,
            "top": null,
            "visibility": null,
            "width": null
          }
        },
        "7ade441f5d284cdfb1bed196244dbedd": {
          "model_module": "@jupyter-widgets/controls",
          "model_module_version": "1.5.0",
          "model_name": "ProgressStyleModel",
          "state": {
            "_model_module": "@jupyter-widgets/controls",
            "_model_module_version": "1.5.0",
            "_model_name": "ProgressStyleModel",
            "_view_count": null,
            "_view_module": "@jupyter-widgets/base",
            "_view_module_version": "1.2.0",
            "_view_name": "StyleView",
            "bar_color": null,
            "description_width": ""
          }
        },
        "7c5a4ec8e13849319d387122a243799d": {
          "model_module": "@jupyter-widgets/base",
          "model_module_version": "1.2.0",
          "model_name": "LayoutModel",
          "state": {
            "_model_module": "@jupyter-widgets/base",
            "_model_module_version": "1.2.0",
            "_model_name": "LayoutModel",
            "_view_count": null,
            "_view_module": "@jupyter-widgets/base",
            "_view_module_version": "1.2.0",
            "_view_name": "LayoutView",
            "align_content": null,
            "align_items": null,
            "align_self": null,
            "border": null,
            "bottom": null,
            "display": null,
            "flex": null,
            "flex_flow": null,
            "grid_area": null,
            "grid_auto_columns": null,
            "grid_auto_flow": null,
            "grid_auto_rows": null,
            "grid_column": null,
            "grid_gap": null,
            "grid_row": null,
            "grid_template_areas": null,
            "grid_template_columns": null,
            "grid_template_rows": null,
            "height": null,
            "justify_content": null,
            "justify_items": null,
            "left": null,
            "margin": null,
            "max_height": null,
            "max_width": null,
            "min_height": null,
            "min_width": null,
            "object_fit": null,
            "object_position": null,
            "order": null,
            "overflow": null,
            "overflow_x": null,
            "overflow_y": null,
            "padding": null,
            "right": null,
            "top": null,
            "visibility": null,
            "width": null
          }
        },
        "af6faf6dc5b24c11b13a592afb8ef3cb": {
          "model_module": "@jupyter-widgets/controls",
          "model_module_version": "1.5.0",
          "model_name": "HTMLModel",
          "state": {
            "_dom_classes": [],
            "_model_module": "@jupyter-widgets/controls",
            "_model_module_version": "1.5.0",
            "_model_name": "HTMLModel",
            "_view_count": null,
            "_view_module": "@jupyter-widgets/controls",
            "_view_module_version": "1.5.0",
            "_view_name": "HTMLView",
            "description": "",
            "description_tooltip": null,
            "layout": "IPY_MODEL_e51acd9f2ed9493f99282577f0c0192d",
            "placeholder": "​",
            "style": "IPY_MODEL_f2078cd4a25c428281260c734fc6d4df",
            "value": " 88%"
          }
        },
        "d60beec0847a4f349e21af0e252ec7d3": {
          "model_module": "@jupyter-widgets/controls",
          "model_module_version": "1.5.0",
          "model_name": "HBoxModel",
          "state": {
            "_dom_classes": [],
            "_model_module": "@jupyter-widgets/controls",
            "_model_module_version": "1.5.0",
            "_model_name": "HBoxModel",
            "_view_count": null,
            "_view_module": "@jupyter-widgets/controls",
            "_view_module_version": "1.5.0",
            "_view_name": "HBoxView",
            "box_style": "",
            "children": [
              "IPY_MODEL_af6faf6dc5b24c11b13a592afb8ef3cb",
              "IPY_MODEL_0fce7bf806754b76861a5ad97113f171",
              "IPY_MODEL_179b847127964db7acd114f7d63b56f2"
            ],
            "layout": "IPY_MODEL_f8b499bbe0be41d3b3707077bcde0a1f"
          }
        },
        "e51acd9f2ed9493f99282577f0c0192d": {
          "model_module": "@jupyter-widgets/base",
          "model_module_version": "1.2.0",
          "model_name": "LayoutModel",
          "state": {
            "_model_module": "@jupyter-widgets/base",
            "_model_module_version": "1.2.0",
            "_model_name": "LayoutModel",
            "_view_count": null,
            "_view_module": "@jupyter-widgets/base",
            "_view_module_version": "1.2.0",
            "_view_name": "LayoutView",
            "align_content": null,
            "align_items": null,
            "align_self": null,
            "border": null,
            "bottom": null,
            "display": null,
            "flex": null,
            "flex_flow": null,
            "grid_area": null,
            "grid_auto_columns": null,
            "grid_auto_flow": null,
            "grid_auto_rows": null,
            "grid_column": null,
            "grid_gap": null,
            "grid_row": null,
            "grid_template_areas": null,
            "grid_template_columns": null,
            "grid_template_rows": null,
            "height": null,
            "justify_content": null,
            "justify_items": null,
            "left": null,
            "margin": null,
            "max_height": null,
            "max_width": null,
            "min_height": null,
            "min_width": null,
            "object_fit": null,
            "object_position": null,
            "order": null,
            "overflow": null,
            "overflow_x": null,
            "overflow_y": null,
            "padding": null,
            "right": null,
            "top": null,
            "visibility": null,
            "width": null
          }
        },
        "f2078cd4a25c428281260c734fc6d4df": {
          "model_module": "@jupyter-widgets/controls",
          "model_module_version": "1.5.0",
          "model_name": "DescriptionStyleModel",
          "state": {
            "_model_module": "@jupyter-widgets/controls",
            "_model_module_version": "1.5.0",
            "_model_name": "DescriptionStyleModel",
            "_view_count": null,
            "_view_module": "@jupyter-widgets/base",
            "_view_module_version": "1.2.0",
            "_view_name": "StyleView",
            "description_width": ""
          }
        },
        "f8b499bbe0be41d3b3707077bcde0a1f": {
          "model_module": "@jupyter-widgets/base",
          "model_module_version": "1.2.0",
          "model_name": "LayoutModel",
          "state": {
            "_model_module": "@jupyter-widgets/base",
            "_model_module_version": "1.2.0",
            "_model_name": "LayoutModel",
            "_view_count": null,
            "_view_module": "@jupyter-widgets/base",
            "_view_module_version": "1.2.0",
            "_view_name": "LayoutView",
            "align_content": null,
            "align_items": null,
            "align_self": null,
            "border": null,
            "bottom": null,
            "display": null,
            "flex": null,
            "flex_flow": null,
            "grid_area": null,
            "grid_auto_columns": null,
            "grid_auto_flow": null,
            "grid_auto_rows": null,
            "grid_column": null,
            "grid_gap": null,
            "grid_row": null,
            "grid_template_areas": null,
            "grid_template_columns": null,
            "grid_template_rows": null,
            "height": null,
            "justify_content": null,
            "justify_items": null,
            "left": null,
            "margin": null,
            "max_height": null,
            "max_width": null,
            "min_height": null,
            "min_width": null,
            "object_fit": null,
            "object_position": null,
            "order": null,
            "overflow": null,
            "overflow_x": null,
            "overflow_y": null,
            "padding": null,
            "right": null,
            "top": null,
            "visibility": null,
            "width": null
          }
        }
      }
    }
  },
  "nbformat": 4,
  "nbformat_minor": 0
}